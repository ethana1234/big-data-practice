{
 "metadata": {
  "language_info": {
   "codemirror_mode": {
    "name": "ipython",
    "version": 3
   },
   "file_extension": ".py",
   "mimetype": "text/x-python",
   "name": "python",
   "nbconvert_exporter": "python",
   "pygments_lexer": "ipython3",
   "version": "3.8.2-final"
  },
  "orig_nbformat": 2,
  "kernelspec": {
   "name": "Python 3.8.2 64-bit ('.venv')",
   "display_name": "Python 3.8.2 64-bit ('.venv')",
   "metadata": {
    "interpreter": {
     "hash": "afc7cf4aec5c9360ba60885fb4fbbd52a52a0f4cdb603197c0924e25d5b8141f"
    }
   }
  }
 },
 "nbformat": 4,
 "nbformat_minor": 2,
 "cells": [
  {
   "source": [
    "# Some Basic PySpark\n",
    "\n",
    "## Setup"
   ],
   "cell_type": "markdown",
   "metadata": {}
  },
  {
   "cell_type": "code",
   "execution_count": 5,
   "metadata": {},
   "outputs": [
    {
     "output_type": "execute_result",
     "data": {
      "text/plain": [
       "<pyspark.sql.session.SparkSession at 0x1c252ed5460>"
      ],
      "text/html": "\n            <div>\n                <p><b>SparkSession - in-memory</b></p>\n                \n        <div>\n            <p><b>SparkContext</b></p>\n\n            <p><a href=\"http://Ethan-Gaming-PC:4040\">Spark UI</a></p>\n\n            <dl>\n              <dt>Version</dt>\n                <dd><code>v3.0.1</code></dd>\n              <dt>Master</dt>\n                <dd><code>local[*]</code></dd>\n              <dt>AppName</dt>\n                <dd><code>pyspark-shell</code></dd>\n            </dl>\n        </div>\n        \n            </div>\n        "
     },
     "metadata": {},
     "execution_count": 5
    }
   ],
   "source": [
    "import os\n",
    "os.environ['JAVA_HOME'] = 'C:\\\\Program Files\\Java\\\\jre1.8.0_271'\n",
    "os.environ['SPARK_HOME'] = 'C:\\\\Spark\\\\spark-3.0.1-bin-hadoop2.7'\n",
    "\n",
    "import pandas as pd\n",
    "import numpy as np\n",
    "\n",
    "from pyspark import SparkContext\n",
    "sc = SparkContext.getOrCreate()\n",
    "\n",
    "import pyspark\n",
    "from pyspark.sql import SparkSession\n",
    "spark = SparkSession.builder.getOrCreate()\n",
    "spark"
   ]
  },
  {
   "source": [
    "## Import Data"
   ],
   "cell_type": "markdown",
   "metadata": {}
  },
  {
   "cell_type": "code",
   "execution_count": 35,
   "metadata": {},
   "outputs": [],
   "source": [
    "from pyspark.sql.functions import to_timestamp,col,lit\n",
    "\n",
    "rc = spark.read.csv('../data/reported-crimes.csv', header=True, inferSchema=True).withColumn('Date', to_timestamp(col('Date'), 'MM/dd/yyyy hh:mm:ss a')).filter(col('Date') <= lit('2018-11-11'))"
   ]
  },
  {
   "cell_type": "code",
   "execution_count": 15,
   "metadata": {},
   "outputs": [
    {
     "output_type": "execute_result",
     "data": {
      "text/plain": [
       "         ID Case Number                Date                 Block  IUCR  \\\n",
       "0  11034701    JA366925 2001-01-01 11:00:00       016XX E 86TH PL  1153   \n",
       "1  11227287    JB147188 2017-10-08 03:00:00    092XX S RACINE AVE  0281   \n",
       "2  11227583    JB147595 2017-03-28 14:00:00       026XX W 79TH ST  0620   \n",
       "3  11227293    JB147230 2017-09-09 20:17:00  060XX S EBERHART AVE  0810   \n",
       "4  11227634    JB147599 2017-08-26 10:00:00   001XX W RANDOLPH ST  0281   \n",
       "\n",
       "          Primary Type                          Description  \\\n",
       "0   DECEPTIVE PRACTICE  FINANCIAL IDENTITY THEFT OVER $ 300   \n",
       "1  CRIM SEXUAL ASSAULT                       NON-AGGRAVATED   \n",
       "2             BURGLARY                       UNLAWFUL ENTRY   \n",
       "3                THEFT                            OVER $500   \n",
       "4  CRIM SEXUAL ASSAULT                       NON-AGGRAVATED   \n",
       "\n",
       "  Location Description  Arrest  Domestic  ...  Ward  Community Area  FBI Code  \\\n",
       "0            RESIDENCE   False     False  ...     8              45        11   \n",
       "1            RESIDENCE   False     False  ...    21              73        02   \n",
       "2                OTHER   False     False  ...    18              70        05   \n",
       "3            RESIDENCE   False     False  ...    20              42        06   \n",
       "4          HOTEL/MOTEL   False     False  ...    42              32        02   \n",
       "\n",
       "   X Coordinate Y Coordinate  Year              Updated On  Latitude  \\\n",
       "0           NaN          NaN  2001  08/05/2017 03:50:08 PM       NaN   \n",
       "1           NaN          NaN  2017  02/11/2018 03:57:41 PM       NaN   \n",
       "2           NaN          NaN  2017  02/11/2018 03:57:41 PM       NaN   \n",
       "3           NaN          NaN  2017  02/11/2018 03:57:41 PM       NaN   \n",
       "4           NaN          NaN  2017  02/11/2018 03:57:41 PM       NaN   \n",
       "\n",
       "  Longitude  Location  \n",
       "0       NaN      None  \n",
       "1       NaN      None  \n",
       "2       NaN      None  \n",
       "3       NaN      None  \n",
       "4       NaN      None  \n",
       "\n",
       "[5 rows x 22 columns]"
      ],
      "text/html": "<div>\n<style scoped>\n    .dataframe tbody tr th:only-of-type {\n        vertical-align: middle;\n    }\n\n    .dataframe tbody tr th {\n        vertical-align: top;\n    }\n\n    .dataframe thead th {\n        text-align: right;\n    }\n</style>\n<table border=\"1\" class=\"dataframe\">\n  <thead>\n    <tr style=\"text-align: right;\">\n      <th></th>\n      <th>ID</th>\n      <th>Case Number</th>\n      <th>Date</th>\n      <th>Block</th>\n      <th>IUCR</th>\n      <th>Primary Type</th>\n      <th>Description</th>\n      <th>Location Description</th>\n      <th>Arrest</th>\n      <th>Domestic</th>\n      <th>...</th>\n      <th>Ward</th>\n      <th>Community Area</th>\n      <th>FBI Code</th>\n      <th>X Coordinate</th>\n      <th>Y Coordinate</th>\n      <th>Year</th>\n      <th>Updated On</th>\n      <th>Latitude</th>\n      <th>Longitude</th>\n      <th>Location</th>\n    </tr>\n  </thead>\n  <tbody>\n    <tr>\n      <th>0</th>\n      <td>11034701</td>\n      <td>JA366925</td>\n      <td>2001-01-01 11:00:00</td>\n      <td>016XX E 86TH PL</td>\n      <td>1153</td>\n      <td>DECEPTIVE PRACTICE</td>\n      <td>FINANCIAL IDENTITY THEFT OVER $ 300</td>\n      <td>RESIDENCE</td>\n      <td>False</td>\n      <td>False</td>\n      <td>...</td>\n      <td>8</td>\n      <td>45</td>\n      <td>11</td>\n      <td>NaN</td>\n      <td>NaN</td>\n      <td>2001</td>\n      <td>08/05/2017 03:50:08 PM</td>\n      <td>NaN</td>\n      <td>NaN</td>\n      <td>None</td>\n    </tr>\n    <tr>\n      <th>1</th>\n      <td>11227287</td>\n      <td>JB147188</td>\n      <td>2017-10-08 03:00:00</td>\n      <td>092XX S RACINE AVE</td>\n      <td>0281</td>\n      <td>CRIM SEXUAL ASSAULT</td>\n      <td>NON-AGGRAVATED</td>\n      <td>RESIDENCE</td>\n      <td>False</td>\n      <td>False</td>\n      <td>...</td>\n      <td>21</td>\n      <td>73</td>\n      <td>02</td>\n      <td>NaN</td>\n      <td>NaN</td>\n      <td>2017</td>\n      <td>02/11/2018 03:57:41 PM</td>\n      <td>NaN</td>\n      <td>NaN</td>\n      <td>None</td>\n    </tr>\n    <tr>\n      <th>2</th>\n      <td>11227583</td>\n      <td>JB147595</td>\n      <td>2017-03-28 14:00:00</td>\n      <td>026XX W 79TH ST</td>\n      <td>0620</td>\n      <td>BURGLARY</td>\n      <td>UNLAWFUL ENTRY</td>\n      <td>OTHER</td>\n      <td>False</td>\n      <td>False</td>\n      <td>...</td>\n      <td>18</td>\n      <td>70</td>\n      <td>05</td>\n      <td>NaN</td>\n      <td>NaN</td>\n      <td>2017</td>\n      <td>02/11/2018 03:57:41 PM</td>\n      <td>NaN</td>\n      <td>NaN</td>\n      <td>None</td>\n    </tr>\n    <tr>\n      <th>3</th>\n      <td>11227293</td>\n      <td>JB147230</td>\n      <td>2017-09-09 20:17:00</td>\n      <td>060XX S EBERHART AVE</td>\n      <td>0810</td>\n      <td>THEFT</td>\n      <td>OVER $500</td>\n      <td>RESIDENCE</td>\n      <td>False</td>\n      <td>False</td>\n      <td>...</td>\n      <td>20</td>\n      <td>42</td>\n      <td>06</td>\n      <td>NaN</td>\n      <td>NaN</td>\n      <td>2017</td>\n      <td>02/11/2018 03:57:41 PM</td>\n      <td>NaN</td>\n      <td>NaN</td>\n      <td>None</td>\n    </tr>\n    <tr>\n      <th>4</th>\n      <td>11227634</td>\n      <td>JB147599</td>\n      <td>2017-08-26 10:00:00</td>\n      <td>001XX W RANDOLPH ST</td>\n      <td>0281</td>\n      <td>CRIM SEXUAL ASSAULT</td>\n      <td>NON-AGGRAVATED</td>\n      <td>HOTEL/MOTEL</td>\n      <td>False</td>\n      <td>False</td>\n      <td>...</td>\n      <td>42</td>\n      <td>32</td>\n      <td>02</td>\n      <td>NaN</td>\n      <td>NaN</td>\n      <td>2017</td>\n      <td>02/11/2018 03:57:41 PM</td>\n      <td>NaN</td>\n      <td>NaN</td>\n      <td>None</td>\n    </tr>\n  </tbody>\n</table>\n<p>5 rows × 22 columns</p>\n</div>"
     },
     "metadata": {},
     "execution_count": 15
    }
   ],
   "source": [
    "# Use this since Pandas has nicer output\n",
    "rc.limit(5).toPandas()"
   ]
  },
  {
   "source": [
    "### View Schema"
   ],
   "cell_type": "markdown",
   "metadata": {}
  },
  {
   "cell_type": "code",
   "execution_count": 11,
   "metadata": {},
   "outputs": [
    {
     "output_type": "stream",
     "name": "stdout",
     "text": [
      "root\n |-- ID: integer (nullable = true)\n |-- Case Number: string (nullable = true)\n |-- Date: timestamp (nullable = true)\n |-- Block: string (nullable = true)\n |-- IUCR: string (nullable = true)\n |-- Primary Type: string (nullable = true)\n |-- Description: string (nullable = true)\n |-- Location Description: string (nullable = true)\n |-- Arrest: boolean (nullable = true)\n |-- Domestic: boolean (nullable = true)\n |-- Beat: integer (nullable = true)\n |-- District: integer (nullable = true)\n |-- Ward: integer (nullable = true)\n |-- Community Area: integer (nullable = true)\n |-- FBI Code: string (nullable = true)\n |-- X Coordinate: integer (nullable = true)\n |-- Y Coordinate: integer (nullable = true)\n |-- Year: integer (nullable = true)\n |-- Updated On: string (nullable = true)\n |-- Latitude: double (nullable = true)\n |-- Longitude: double (nullable = true)\n |-- Location: string (nullable = true)\n\n"
     ]
    }
   ],
   "source": [
    "rc.printSchema()"
   ]
  },
  {
   "source": [
    "## Basic Column Commands"
   ],
   "cell_type": "markdown",
   "metadata": {}
  },
  {
   "cell_type": "code",
   "execution_count": 17,
   "metadata": {},
   "outputs": [
    {
     "output_type": "stream",
     "name": "stdout",
     "text": [
      "+----+\n|IUCR|\n+----+\n|1153|\n|0281|\n|0620|\n|0810|\n|0281|\n+----+\nonly showing top 5 rows\n\n"
     ]
    }
   ],
   "source": [
    "rc.select('IUCR').show(5) # can also put col('IUCR') or rc.ICUR in the select call"
   ]
  },
  {
   "cell_type": "code",
   "execution_count": 19,
   "metadata": {},
   "outputs": [
    {
     "output_type": "stream",
     "name": "stdout",
     "text": [
      "+-----------+-------------------+------+\n|Case Number|               Date|Arrest|\n+-----------+-------------------+------+\n|   JA366925|2001-01-01 11:00:00| false|\n|   JB147188|2017-10-08 03:00:00| false|\n|   JB147595|2017-03-28 14:00:00| false|\n|   JB147230|2017-09-09 20:17:00| false|\n+-----------+-------------------+------+\nonly showing top 4 rows\n\n"
     ]
    }
   ],
   "source": [
    "rc.select('Case Number', 'Date', 'Arrest').show(4)"
   ]
  },
  {
   "cell_type": "code",
   "execution_count": 21,
   "metadata": {},
   "outputs": [
    {
     "output_type": "execute_result",
     "data": {
      "text/plain": [
       "         ID Case Number                Date                 Block  IUCR  \\\n",
       "0  11034701    JA366925 2001-01-01 11:00:00       016XX E 86TH PL  1153   \n",
       "1  11227287    JB147188 2017-10-08 03:00:00    092XX S RACINE AVE  0281   \n",
       "2  11227583    JB147595 2017-03-28 14:00:00       026XX W 79TH ST  0620   \n",
       "3  11227293    JB147230 2017-09-09 20:17:00  060XX S EBERHART AVE  0810   \n",
       "4  11227634    JB147599 2017-08-26 10:00:00   001XX W RANDOLPH ST  0281   \n",
       "\n",
       "          Primary Type                          Description  \\\n",
       "0   DECEPTIVE PRACTICE  FINANCIAL IDENTITY THEFT OVER $ 300   \n",
       "1  CRIM SEXUAL ASSAULT                       NON-AGGRAVATED   \n",
       "2             BURGLARY                       UNLAWFUL ENTRY   \n",
       "3                THEFT                            OVER $500   \n",
       "4  CRIM SEXUAL ASSAULT                       NON-AGGRAVATED   \n",
       "\n",
       "  Location Description  Arrest  Domestic  ...  Community Area  FBI Code  \\\n",
       "0            RESIDENCE   False     False  ...              45        11   \n",
       "1            RESIDENCE   False     False  ...              73        02   \n",
       "2                OTHER   False     False  ...              70        05   \n",
       "3            RESIDENCE   False     False  ...              42        06   \n",
       "4          HOTEL/MOTEL   False     False  ...              32        02   \n",
       "\n",
       "   X Coordinate  Y Coordinate  Year              Updated On  Latitude  \\\n",
       "0           NaN           NaN  2001  08/05/2017 03:50:08 PM       NaN   \n",
       "1           NaN           NaN  2017  02/11/2018 03:57:41 PM       NaN   \n",
       "2           NaN           NaN  2017  02/11/2018 03:57:41 PM       NaN   \n",
       "3           NaN           NaN  2017  02/11/2018 03:57:41 PM       NaN   \n",
       "4           NaN           NaN  2017  02/11/2018 03:57:41 PM       NaN   \n",
       "\n",
       "   Longitude Location  One  \n",
       "0        NaN     None    1  \n",
       "1        NaN     None    1  \n",
       "2        NaN     None    1  \n",
       "3        NaN     None    1  \n",
       "4        NaN     None    1  \n",
       "\n",
       "[5 rows x 23 columns]"
      ],
      "text/html": "<div>\n<style scoped>\n    .dataframe tbody tr th:only-of-type {\n        vertical-align: middle;\n    }\n\n    .dataframe tbody tr th {\n        vertical-align: top;\n    }\n\n    .dataframe thead th {\n        text-align: right;\n    }\n</style>\n<table border=\"1\" class=\"dataframe\">\n  <thead>\n    <tr style=\"text-align: right;\">\n      <th></th>\n      <th>ID</th>\n      <th>Case Number</th>\n      <th>Date</th>\n      <th>Block</th>\n      <th>IUCR</th>\n      <th>Primary Type</th>\n      <th>Description</th>\n      <th>Location Description</th>\n      <th>Arrest</th>\n      <th>Domestic</th>\n      <th>...</th>\n      <th>Community Area</th>\n      <th>FBI Code</th>\n      <th>X Coordinate</th>\n      <th>Y Coordinate</th>\n      <th>Year</th>\n      <th>Updated On</th>\n      <th>Latitude</th>\n      <th>Longitude</th>\n      <th>Location</th>\n      <th>One</th>\n    </tr>\n  </thead>\n  <tbody>\n    <tr>\n      <th>0</th>\n      <td>11034701</td>\n      <td>JA366925</td>\n      <td>2001-01-01 11:00:00</td>\n      <td>016XX E 86TH PL</td>\n      <td>1153</td>\n      <td>DECEPTIVE PRACTICE</td>\n      <td>FINANCIAL IDENTITY THEFT OVER $ 300</td>\n      <td>RESIDENCE</td>\n      <td>False</td>\n      <td>False</td>\n      <td>...</td>\n      <td>45</td>\n      <td>11</td>\n      <td>NaN</td>\n      <td>NaN</td>\n      <td>2001</td>\n      <td>08/05/2017 03:50:08 PM</td>\n      <td>NaN</td>\n      <td>NaN</td>\n      <td>None</td>\n      <td>1</td>\n    </tr>\n    <tr>\n      <th>1</th>\n      <td>11227287</td>\n      <td>JB147188</td>\n      <td>2017-10-08 03:00:00</td>\n      <td>092XX S RACINE AVE</td>\n      <td>0281</td>\n      <td>CRIM SEXUAL ASSAULT</td>\n      <td>NON-AGGRAVATED</td>\n      <td>RESIDENCE</td>\n      <td>False</td>\n      <td>False</td>\n      <td>...</td>\n      <td>73</td>\n      <td>02</td>\n      <td>NaN</td>\n      <td>NaN</td>\n      <td>2017</td>\n      <td>02/11/2018 03:57:41 PM</td>\n      <td>NaN</td>\n      <td>NaN</td>\n      <td>None</td>\n      <td>1</td>\n    </tr>\n    <tr>\n      <th>2</th>\n      <td>11227583</td>\n      <td>JB147595</td>\n      <td>2017-03-28 14:00:00</td>\n      <td>026XX W 79TH ST</td>\n      <td>0620</td>\n      <td>BURGLARY</td>\n      <td>UNLAWFUL ENTRY</td>\n      <td>OTHER</td>\n      <td>False</td>\n      <td>False</td>\n      <td>...</td>\n      <td>70</td>\n      <td>05</td>\n      <td>NaN</td>\n      <td>NaN</td>\n      <td>2017</td>\n      <td>02/11/2018 03:57:41 PM</td>\n      <td>NaN</td>\n      <td>NaN</td>\n      <td>None</td>\n      <td>1</td>\n    </tr>\n    <tr>\n      <th>3</th>\n      <td>11227293</td>\n      <td>JB147230</td>\n      <td>2017-09-09 20:17:00</td>\n      <td>060XX S EBERHART AVE</td>\n      <td>0810</td>\n      <td>THEFT</td>\n      <td>OVER $500</td>\n      <td>RESIDENCE</td>\n      <td>False</td>\n      <td>False</td>\n      <td>...</td>\n      <td>42</td>\n      <td>06</td>\n      <td>NaN</td>\n      <td>NaN</td>\n      <td>2017</td>\n      <td>02/11/2018 03:57:41 PM</td>\n      <td>NaN</td>\n      <td>NaN</td>\n      <td>None</td>\n      <td>1</td>\n    </tr>\n    <tr>\n      <th>4</th>\n      <td>11227634</td>\n      <td>JB147599</td>\n      <td>2017-08-26 10:00:00</td>\n      <td>001XX W RANDOLPH ST</td>\n      <td>0281</td>\n      <td>CRIM SEXUAL ASSAULT</td>\n      <td>NON-AGGRAVATED</td>\n      <td>HOTEL/MOTEL</td>\n      <td>False</td>\n      <td>False</td>\n      <td>...</td>\n      <td>32</td>\n      <td>02</td>\n      <td>NaN</td>\n      <td>NaN</td>\n      <td>2017</td>\n      <td>02/11/2018 03:57:41 PM</td>\n      <td>NaN</td>\n      <td>NaN</td>\n      <td>None</td>\n      <td>1</td>\n    </tr>\n  </tbody>\n</table>\n<p>5 rows × 23 columns</p>\n</div>"
     },
     "metadata": {},
     "execution_count": 21
    }
   ],
   "source": [
    "# Add column with constant value\n",
    "rc.withColumn('One', lit(1)).limit(5).toPandas()"
   ]
  },
  {
   "source": [
    "## Working with Rows"
   ],
   "cell_type": "markdown",
   "metadata": {}
  },
  {
   "cell_type": "code",
   "execution_count": 31,
   "metadata": {},
   "outputs": [
    {
     "output_type": "execute_result",
     "data": {
      "text/plain": [
       "         ID Case Number       Date                Block  IUCR  \\\n",
       "0  11505149    JB513151 2018-11-12   003XX S WHIPPLE ST  0810   \n",
       "1  11516594    JB528186 2018-11-12  049XX S PRAIRIE AVE  2826   \n",
       "2  11540042    JB559262 2018-11-12  010XX N DEARBORN ST  1140   \n",
       "\n",
       "         Primary Type                     Description Location Description  \\\n",
       "0               THEFT                       OVER $500               STREET   \n",
       "1       OTHER OFFENSE  HARASSMENT BY ELECTRONIC MEANS                OTHER   \n",
       "2  DECEPTIVE PRACTICE                    EMBEZZLEMENT    CONVENIENCE STORE   \n",
       "\n",
       "   Arrest  Domestic  ...  Ward  Community Area  FBI Code  X Coordinate  \\\n",
       "0   False     False  ...    28              27        06       1156099   \n",
       "1   False     False  ...     3              38        26       1178879   \n",
       "2    True     False  ...     2               8        12       1175747   \n",
       "\n",
       "  Y Coordinate  Year              Updated On   Latitude  Longitude  \\\n",
       "0      1898319  2018  11/19/2018 04:22:02 PM  41.876776 -87.702318   \n",
       "1      1872259  2018  11/28/2018 04:14:58 PM  41.804776 -87.619472   \n",
       "2      1907348  2018  03/16/2019 04:01:20 PM  41.901133 -87.629905   \n",
       "\n",
       "                        Location  \n",
       "0  (41.876776356, -87.702317641)  \n",
       "1  (41.804775828, -87.619472488)  \n",
       "2  (41.901133376, -87.629904979)  \n",
       "\n",
       "[3 rows x 22 columns]"
      ],
      "text/html": "<div>\n<style scoped>\n    .dataframe tbody tr th:only-of-type {\n        vertical-align: middle;\n    }\n\n    .dataframe tbody tr th {\n        vertical-align: top;\n    }\n\n    .dataframe thead th {\n        text-align: right;\n    }\n</style>\n<table border=\"1\" class=\"dataframe\">\n  <thead>\n    <tr style=\"text-align: right;\">\n      <th></th>\n      <th>ID</th>\n      <th>Case Number</th>\n      <th>Date</th>\n      <th>Block</th>\n      <th>IUCR</th>\n      <th>Primary Type</th>\n      <th>Description</th>\n      <th>Location Description</th>\n      <th>Arrest</th>\n      <th>Domestic</th>\n      <th>...</th>\n      <th>Ward</th>\n      <th>Community Area</th>\n      <th>FBI Code</th>\n      <th>X Coordinate</th>\n      <th>Y Coordinate</th>\n      <th>Year</th>\n      <th>Updated On</th>\n      <th>Latitude</th>\n      <th>Longitude</th>\n      <th>Location</th>\n    </tr>\n  </thead>\n  <tbody>\n    <tr>\n      <th>0</th>\n      <td>11505149</td>\n      <td>JB513151</td>\n      <td>2018-11-12</td>\n      <td>003XX S WHIPPLE ST</td>\n      <td>0810</td>\n      <td>THEFT</td>\n      <td>OVER $500</td>\n      <td>STREET</td>\n      <td>False</td>\n      <td>False</td>\n      <td>...</td>\n      <td>28</td>\n      <td>27</td>\n      <td>06</td>\n      <td>1156099</td>\n      <td>1898319</td>\n      <td>2018</td>\n      <td>11/19/2018 04:22:02 PM</td>\n      <td>41.876776</td>\n      <td>-87.702318</td>\n      <td>(41.876776356, -87.702317641)</td>\n    </tr>\n    <tr>\n      <th>1</th>\n      <td>11516594</td>\n      <td>JB528186</td>\n      <td>2018-11-12</td>\n      <td>049XX S PRAIRIE AVE</td>\n      <td>2826</td>\n      <td>OTHER OFFENSE</td>\n      <td>HARASSMENT BY ELECTRONIC MEANS</td>\n      <td>OTHER</td>\n      <td>False</td>\n      <td>False</td>\n      <td>...</td>\n      <td>3</td>\n      <td>38</td>\n      <td>26</td>\n      <td>1178879</td>\n      <td>1872259</td>\n      <td>2018</td>\n      <td>11/28/2018 04:14:58 PM</td>\n      <td>41.804776</td>\n      <td>-87.619472</td>\n      <td>(41.804775828, -87.619472488)</td>\n    </tr>\n    <tr>\n      <th>2</th>\n      <td>11540042</td>\n      <td>JB559262</td>\n      <td>2018-11-12</td>\n      <td>010XX N DEARBORN ST</td>\n      <td>1140</td>\n      <td>DECEPTIVE PRACTICE</td>\n      <td>EMBEZZLEMENT</td>\n      <td>CONVENIENCE STORE</td>\n      <td>True</td>\n      <td>False</td>\n      <td>...</td>\n      <td>2</td>\n      <td>8</td>\n      <td>12</td>\n      <td>1175747</td>\n      <td>1907348</td>\n      <td>2018</td>\n      <td>03/16/2019 04:01:20 PM</td>\n      <td>41.901133</td>\n      <td>-87.629905</td>\n      <td>(41.901133376, -87.629904979)</td>\n    </tr>\n  </tbody>\n</table>\n<p>3 rows × 22 columns</p>\n</div>"
     },
     "metadata": {},
     "execution_count": 31
    }
   ],
   "source": [
    "# Append new day's data to the dataframe\n",
    "new_day = spark.read.csv('../data/reported-crimes.csv', header=True, inferSchema=True).withColumn('Date', to_timestamp(col('Date'), 'MM/dd/yyyy hh:mm:ss a')).filter(col('Date') == lit('2018-11-12'))\n",
    "new_day.toPandas()"
   ]
  },
  {
   "cell_type": "code",
   "execution_count": 37,
   "metadata": {},
   "outputs": [
    {
     "output_type": "execute_result",
     "data": {
      "text/plain": [
       "         ID Case Number       Date                  Block  IUCR  \\\n",
       "0  11516594    JB528186 2018-11-12    049XX S PRAIRIE AVE  2826   \n",
       "1  11505149    JB513151 2018-11-12     003XX S WHIPPLE ST  0810   \n",
       "2  11540042    JB559262 2018-11-12    010XX N DEARBORN ST  1140   \n",
       "3  11513303    JB523990 2018-11-11     007XX S CICERO AVE  0281   \n",
       "4  11595518    JC152109 2018-11-11  043XX N GREENVIEW AVE  1153   \n",
       "\n",
       "              Primary Type                          Description  \\\n",
       "0            OTHER OFFENSE       HARASSMENT BY ELECTRONIC MEANS   \n",
       "1                    THEFT                            OVER $500   \n",
       "2       DECEPTIVE PRACTICE                         EMBEZZLEMENT   \n",
       "3  CRIMINAL SEXUAL ASSAULT                       NON-AGGRAVATED   \n",
       "4       DECEPTIVE PRACTICE  FINANCIAL IDENTITY THEFT OVER $ 300   \n",
       "\n",
       "  Location Description  Arrest  Domestic  ...  Ward  Community Area  FBI Code  \\\n",
       "0                OTHER   False     False  ...     3              38        26   \n",
       "1               STREET   False     False  ...    28              27        06   \n",
       "2    CONVENIENCE STORE    True     False  ...     2               8        12   \n",
       "3               STREET   False     False  ...    24              25        02   \n",
       "4   SMALL RETAIL STORE   False     False  ...    47               6        11   \n",
       "\n",
       "   X Coordinate Y Coordinate  Year              Updated On   Latitude  \\\n",
       "0     1178879.0    1872259.0  2018  11/28/2018 04:14:58 PM  41.804776   \n",
       "1     1156099.0    1898319.0  2018  11/19/2018 04:22:02 PM  41.876776   \n",
       "2     1175747.0    1907348.0  2018  03/16/2019 04:01:20 PM  41.901133   \n",
       "3     1144511.0    1896107.0  2018  03/19/2020 03:44:13 PM  41.870932   \n",
       "4           NaN          NaN  2018  02/15/2019 04:04:58 PM        NaN   \n",
       "\n",
       "   Longitude                       Location  \n",
       "0 -87.619472  (41.804775828, -87.619472488)  \n",
       "1 -87.702318  (41.876776356, -87.702317641)  \n",
       "2 -87.629905  (41.901133376, -87.629904979)  \n",
       "3 -87.744921  (41.870932257, -87.744921277)  \n",
       "4        NaN                           None  \n",
       "\n",
       "[5 rows x 22 columns]"
      ],
      "text/html": "<div>\n<style scoped>\n    .dataframe tbody tr th:only-of-type {\n        vertical-align: middle;\n    }\n\n    .dataframe tbody tr th {\n        vertical-align: top;\n    }\n\n    .dataframe thead th {\n        text-align: right;\n    }\n</style>\n<table border=\"1\" class=\"dataframe\">\n  <thead>\n    <tr style=\"text-align: right;\">\n      <th></th>\n      <th>ID</th>\n      <th>Case Number</th>\n      <th>Date</th>\n      <th>Block</th>\n      <th>IUCR</th>\n      <th>Primary Type</th>\n      <th>Description</th>\n      <th>Location Description</th>\n      <th>Arrest</th>\n      <th>Domestic</th>\n      <th>...</th>\n      <th>Ward</th>\n      <th>Community Area</th>\n      <th>FBI Code</th>\n      <th>X Coordinate</th>\n      <th>Y Coordinate</th>\n      <th>Year</th>\n      <th>Updated On</th>\n      <th>Latitude</th>\n      <th>Longitude</th>\n      <th>Location</th>\n    </tr>\n  </thead>\n  <tbody>\n    <tr>\n      <th>0</th>\n      <td>11516594</td>\n      <td>JB528186</td>\n      <td>2018-11-12</td>\n      <td>049XX S PRAIRIE AVE</td>\n      <td>2826</td>\n      <td>OTHER OFFENSE</td>\n      <td>HARASSMENT BY ELECTRONIC MEANS</td>\n      <td>OTHER</td>\n      <td>False</td>\n      <td>False</td>\n      <td>...</td>\n      <td>3</td>\n      <td>38</td>\n      <td>26</td>\n      <td>1178879.0</td>\n      <td>1872259.0</td>\n      <td>2018</td>\n      <td>11/28/2018 04:14:58 PM</td>\n      <td>41.804776</td>\n      <td>-87.619472</td>\n      <td>(41.804775828, -87.619472488)</td>\n    </tr>\n    <tr>\n      <th>1</th>\n      <td>11505149</td>\n      <td>JB513151</td>\n      <td>2018-11-12</td>\n      <td>003XX S WHIPPLE ST</td>\n      <td>0810</td>\n      <td>THEFT</td>\n      <td>OVER $500</td>\n      <td>STREET</td>\n      <td>False</td>\n      <td>False</td>\n      <td>...</td>\n      <td>28</td>\n      <td>27</td>\n      <td>06</td>\n      <td>1156099.0</td>\n      <td>1898319.0</td>\n      <td>2018</td>\n      <td>11/19/2018 04:22:02 PM</td>\n      <td>41.876776</td>\n      <td>-87.702318</td>\n      <td>(41.876776356, -87.702317641)</td>\n    </tr>\n    <tr>\n      <th>2</th>\n      <td>11540042</td>\n      <td>JB559262</td>\n      <td>2018-11-12</td>\n      <td>010XX N DEARBORN ST</td>\n      <td>1140</td>\n      <td>DECEPTIVE PRACTICE</td>\n      <td>EMBEZZLEMENT</td>\n      <td>CONVENIENCE STORE</td>\n      <td>True</td>\n      <td>False</td>\n      <td>...</td>\n      <td>2</td>\n      <td>8</td>\n      <td>12</td>\n      <td>1175747.0</td>\n      <td>1907348.0</td>\n      <td>2018</td>\n      <td>03/16/2019 04:01:20 PM</td>\n      <td>41.901133</td>\n      <td>-87.629905</td>\n      <td>(41.901133376, -87.629904979)</td>\n    </tr>\n    <tr>\n      <th>3</th>\n      <td>11513303</td>\n      <td>JB523990</td>\n      <td>2018-11-11</td>\n      <td>007XX S CICERO AVE</td>\n      <td>0281</td>\n      <td>CRIMINAL SEXUAL ASSAULT</td>\n      <td>NON-AGGRAVATED</td>\n      <td>STREET</td>\n      <td>False</td>\n      <td>False</td>\n      <td>...</td>\n      <td>24</td>\n      <td>25</td>\n      <td>02</td>\n      <td>1144511.0</td>\n      <td>1896107.0</td>\n      <td>2018</td>\n      <td>03/19/2020 03:44:13 PM</td>\n      <td>41.870932</td>\n      <td>-87.744921</td>\n      <td>(41.870932257, -87.744921277)</td>\n    </tr>\n    <tr>\n      <th>4</th>\n      <td>11595518</td>\n      <td>JC152109</td>\n      <td>2018-11-11</td>\n      <td>043XX N GREENVIEW AVE</td>\n      <td>1153</td>\n      <td>DECEPTIVE PRACTICE</td>\n      <td>FINANCIAL IDENTITY THEFT OVER $ 300</td>\n      <td>SMALL RETAIL STORE</td>\n      <td>False</td>\n      <td>False</td>\n      <td>...</td>\n      <td>47</td>\n      <td>6</td>\n      <td>11</td>\n      <td>NaN</td>\n      <td>NaN</td>\n      <td>2018</td>\n      <td>02/15/2019 04:04:58 PM</td>\n      <td>NaN</td>\n      <td>NaN</td>\n      <td>None</td>\n    </tr>\n  </tbody>\n</table>\n<p>5 rows × 22 columns</p>\n</div>"
     },
     "metadata": {},
     "execution_count": 37
    }
   ],
   "source": [
    "rc.union(new_day).orderBy('Date', ascending=False).limit(5).toPandas()"
   ]
  },
  {
   "cell_type": "code",
   "execution_count": 38,
   "metadata": {},
   "outputs": [
    {
     "output_type": "execute_result",
     "data": {
      "text/plain": [
       "          Primary Type    count\n",
       "0                THEFT  1418446\n",
       "1              BATTERY  1232228\n",
       "2      CRIMINAL DAMAGE   771503\n",
       "3            NARCOTICS   711744\n",
       "4        OTHER OFFENSE   418858\n",
       "5              ASSAULT   418509\n",
       "6             BURGLARY   388031\n",
       "7  MOTOR VEHICLE THEFT   314131\n",
       "8   DECEPTIVE PRACTICE   266035\n",
       "9              ROBBERY   255599"
      ],
      "text/html": "<div>\n<style scoped>\n    .dataframe tbody tr th:only-of-type {\n        vertical-align: middle;\n    }\n\n    .dataframe tbody tr th {\n        vertical-align: top;\n    }\n\n    .dataframe thead th {\n        text-align: right;\n    }\n</style>\n<table border=\"1\" class=\"dataframe\">\n  <thead>\n    <tr style=\"text-align: right;\">\n      <th></th>\n      <th>Primary Type</th>\n      <th>count</th>\n    </tr>\n  </thead>\n  <tbody>\n    <tr>\n      <th>0</th>\n      <td>THEFT</td>\n      <td>1418446</td>\n    </tr>\n    <tr>\n      <th>1</th>\n      <td>BATTERY</td>\n      <td>1232228</td>\n    </tr>\n    <tr>\n      <th>2</th>\n      <td>CRIMINAL DAMAGE</td>\n      <td>771503</td>\n    </tr>\n    <tr>\n      <th>3</th>\n      <td>NARCOTICS</td>\n      <td>711744</td>\n    </tr>\n    <tr>\n      <th>4</th>\n      <td>OTHER OFFENSE</td>\n      <td>418858</td>\n    </tr>\n    <tr>\n      <th>5</th>\n      <td>ASSAULT</td>\n      <td>418509</td>\n    </tr>\n    <tr>\n      <th>6</th>\n      <td>BURGLARY</td>\n      <td>388031</td>\n    </tr>\n    <tr>\n      <th>7</th>\n      <td>MOTOR VEHICLE THEFT</td>\n      <td>314131</td>\n    </tr>\n    <tr>\n      <th>8</th>\n      <td>DECEPTIVE PRACTICE</td>\n      <td>266035</td>\n    </tr>\n    <tr>\n      <th>9</th>\n      <td>ROBBERY</td>\n      <td>255599</td>\n    </tr>\n  </tbody>\n</table>\n</div>"
     },
     "metadata": {},
     "execution_count": 38
    }
   ],
   "source": [
    "# Top 10 num of reported crimes by Primary type\n",
    "rc.groupBy('Primary Type').count().orderBy('count', ascending=False).limit(10).toPandas()"
   ]
  },
  {
   "source": [
    "## Challenge Questions\n",
    "\n",
    "What % of reported crimes resulted in an arrest?"
   ],
   "cell_type": "markdown",
   "metadata": {}
  },
  {
   "cell_type": "code",
   "execution_count": 42,
   "metadata": {},
   "outputs": [
    {
     "output_type": "execute_result",
     "data": {
      "text/plain": [
       "0.2775442315884519"
      ]
     },
     "metadata": {},
     "execution_count": 42
    }
   ],
   "source": [
    "rc.filter(col('Arrest')).count() / rc.count()"
   ]
  },
  {
   "source": [
    "Find the top 3 locations for reported crimes"
   ],
   "cell_type": "markdown",
   "metadata": {}
  },
  {
   "cell_type": "code",
   "execution_count": 43,
   "metadata": {},
   "outputs": [
    {
     "output_type": "execute_result",
     "data": {
      "text/plain": [
       "  Location Description    count\n",
       "0               STREET  1770578\n",
       "1            RESIDENCE  1144972\n",
       "2            APARTMENT   698336"
      ],
      "text/html": "<div>\n<style scoped>\n    .dataframe tbody tr th:only-of-type {\n        vertical-align: middle;\n    }\n\n    .dataframe tbody tr th {\n        vertical-align: top;\n    }\n\n    .dataframe thead th {\n        text-align: right;\n    }\n</style>\n<table border=\"1\" class=\"dataframe\">\n  <thead>\n    <tr style=\"text-align: right;\">\n      <th></th>\n      <th>Location Description</th>\n      <th>count</th>\n    </tr>\n  </thead>\n  <tbody>\n    <tr>\n      <th>0</th>\n      <td>STREET</td>\n      <td>1770578</td>\n    </tr>\n    <tr>\n      <th>1</th>\n      <td>RESIDENCE</td>\n      <td>1144972</td>\n    </tr>\n    <tr>\n      <th>2</th>\n      <td>APARTMENT</td>\n      <td>698336</td>\n    </tr>\n  </tbody>\n</table>\n</div>"
     },
     "metadata": {},
     "execution_count": 43
    }
   ],
   "source": [
    "rc.groupBy('Location Description').count().orderBy('count', ascending=False).limit(3).toPandas()"
   ]
  },
  {
   "source": [
    "## Built-in Functions\n",
    "\n",
    "### String Functions"
   ],
   "cell_type": "markdown",
   "metadata": {}
  },
  {
   "cell_type": "code",
   "execution_count": 45,
   "metadata": {},
   "outputs": [
    {
     "output_type": "execute_result",
     "data": {
      "text/plain": [
       "   lower(Primary Type)  upper(Primary Type) substring(Primary Type, 1, 4)\n",
       "0   deceptive practice   DECEPTIVE PRACTICE                          DECE\n",
       "1  crim sexual assault  CRIM SEXUAL ASSAULT                          CRIM\n",
       "2             burglary             BURGLARY                          BURG\n",
       "3                theft                THEFT                          THEF\n",
       "4  crim sexual assault  CRIM SEXUAL ASSAULT                          CRIM"
      ],
      "text/html": "<div>\n<style scoped>\n    .dataframe tbody tr th:only-of-type {\n        vertical-align: middle;\n    }\n\n    .dataframe tbody tr th {\n        vertical-align: top;\n    }\n\n    .dataframe thead th {\n        text-align: right;\n    }\n</style>\n<table border=\"1\" class=\"dataframe\">\n  <thead>\n    <tr style=\"text-align: right;\">\n      <th></th>\n      <th>lower(Primary Type)</th>\n      <th>upper(Primary Type)</th>\n      <th>substring(Primary Type, 1, 4)</th>\n    </tr>\n  </thead>\n  <tbody>\n    <tr>\n      <th>0</th>\n      <td>deceptive practice</td>\n      <td>DECEPTIVE PRACTICE</td>\n      <td>DECE</td>\n    </tr>\n    <tr>\n      <th>1</th>\n      <td>crim sexual assault</td>\n      <td>CRIM SEXUAL ASSAULT</td>\n      <td>CRIM</td>\n    </tr>\n    <tr>\n      <th>2</th>\n      <td>burglary</td>\n      <td>BURGLARY</td>\n      <td>BURG</td>\n    </tr>\n    <tr>\n      <th>3</th>\n      <td>theft</td>\n      <td>THEFT</td>\n      <td>THEF</td>\n    </tr>\n    <tr>\n      <th>4</th>\n      <td>crim sexual assault</td>\n      <td>CRIM SEXUAL ASSAULT</td>\n      <td>CRIM</td>\n    </tr>\n  </tbody>\n</table>\n</div>"
     },
     "metadata": {},
     "execution_count": 45
    }
   ],
   "source": [
    "from pyspark.sql.functions import lower,upper,substring\n",
    "\n",
    "rc.select(lower(col('Primary Type')), upper(col('Primary Type')), substring(col('Primary Type'), 1, 4)).limit(5).toPandas()"
   ]
  },
  {
   "source": [
    "### Numeric Functions"
   ],
   "cell_type": "markdown",
   "metadata": {}
  },
  {
   "cell_type": "code",
   "execution_count": 48,
   "metadata": {},
   "outputs": [
    {
     "output_type": "stream",
     "name": "stdout",
     "text": [
      "+-------------------+-------------------+\n|min(Community Area)|max(Community Area)|\n+-------------------+-------------------+\n|                  0|                 77|\n+-------------------+-------------------+\n\n"
     ]
    }
   ],
   "source": [
    "from pyspark.sql.functions import min,max\n",
    "\n",
    "rc.select(min(col('Community Area')), max(col('Community Area'))).show(1)"
   ]
  },
  {
   "source": [
    "### Date Functions\n",
    "\n",
    "What is 3 days earlier than the oldest date and 3 days later than the most recent date?"
   ],
   "cell_type": "markdown",
   "metadata": {}
  },
  {
   "cell_type": "code",
   "execution_count": 49,
   "metadata": {},
   "outputs": [
    {
     "output_type": "stream",
     "name": "stdout",
     "text": [
      "+----------------------+----------------------+\n|date_sub(min(Date), 3)|date_add(max(Date), 3)|\n+----------------------+----------------------+\n|            2000-12-29|            2018-11-14|\n+----------------------+----------------------+\n\n"
     ]
    }
   ],
   "source": [
    "from pyspark.sql.functions import date_add,date_sub\n",
    "\n",
    "rc.select(date_sub(min('Date'), 3), date_add(max('Date'), 3)).show(1)"
   ]
  },
  {
   "source": [
    "### Joins\n",
    "\n",
    "Also getting police station data to use joins"
   ],
   "cell_type": "markdown",
   "metadata": {}
  },
  {
   "cell_type": "code",
   "execution_count": 53,
   "metadata": {},
   "outputs": [
    {
     "output_type": "execute_result",
     "data": {
      "text/plain": [
       "       DISTRICT   DISTRICT NAME               ADDRESS     CITY STATE    ZIP  \\\n",
       "0             1         Central       1718 S State St  Chicago    IL  60616   \n",
       "1             6         Gresham     7808 S Halsted St  Chicago    IL  60620   \n",
       "2            11        Harrison    3151 W Harrison St  Chicago    IL  60612   \n",
       "3            16  Jefferson Park  5151 N Milwaukee Ave  Chicago    IL  60630   \n",
       "4  Headquarters    Headquarters   3510 S Michigan Ave  Chicago    IL  60653   \n",
       "\n",
       "          PHONE           FAX           TTY  X COORDINATE  Y COORDINATE  \\\n",
       "0  312-745-4290  312-745-3694  312-745-3693   1176569.052   1891771.704   \n",
       "1  312-745-3617  312-745-3649  312-745-3639   1172283.013   1853022.646   \n",
       "2  312-746-8386  312-746-4281  312-746-5151   1155244.069   1897148.755   \n",
       "3  312-742-4480  312-742-4421  312-742-4423   1138480.758   1933660.473   \n",
       "4          None          None          None   1177731.401   1881697.404   \n",
       "\n",
       "    LATITUDE  LONGITUDE                         LOCATION  \n",
       "0  41.858373 -87.627356   (41.8583725929, -87.627356171)  \n",
       "1  41.752137 -87.644229  (41.7521368378, -87.6442289066)  \n",
       "2  41.873582 -87.705488   (41.8735822883, -87.705488126)  \n",
       "3  41.974094 -87.766149  (41.9740944511, -87.7661488432)  \n",
       "4  41.830702 -87.623395  (41.8307016873, -87.6233953459)  "
      ],
      "text/html": "<div>\n<style scoped>\n    .dataframe tbody tr th:only-of-type {\n        vertical-align: middle;\n    }\n\n    .dataframe tbody tr th {\n        vertical-align: top;\n    }\n\n    .dataframe thead th {\n        text-align: right;\n    }\n</style>\n<table border=\"1\" class=\"dataframe\">\n  <thead>\n    <tr style=\"text-align: right;\">\n      <th></th>\n      <th>DISTRICT</th>\n      <th>DISTRICT NAME</th>\n      <th>ADDRESS</th>\n      <th>CITY</th>\n      <th>STATE</th>\n      <th>ZIP</th>\n      <th>PHONE</th>\n      <th>FAX</th>\n      <th>TTY</th>\n      <th>X COORDINATE</th>\n      <th>Y COORDINATE</th>\n      <th>LATITUDE</th>\n      <th>LONGITUDE</th>\n      <th>LOCATION</th>\n    </tr>\n  </thead>\n  <tbody>\n    <tr>\n      <th>0</th>\n      <td>1</td>\n      <td>Central</td>\n      <td>1718 S State St</td>\n      <td>Chicago</td>\n      <td>IL</td>\n      <td>60616</td>\n      <td>312-745-4290</td>\n      <td>312-745-3694</td>\n      <td>312-745-3693</td>\n      <td>1176569.052</td>\n      <td>1891771.704</td>\n      <td>41.858373</td>\n      <td>-87.627356</td>\n      <td>(41.8583725929, -87.627356171)</td>\n    </tr>\n    <tr>\n      <th>1</th>\n      <td>6</td>\n      <td>Gresham</td>\n      <td>7808 S Halsted St</td>\n      <td>Chicago</td>\n      <td>IL</td>\n      <td>60620</td>\n      <td>312-745-3617</td>\n      <td>312-745-3649</td>\n      <td>312-745-3639</td>\n      <td>1172283.013</td>\n      <td>1853022.646</td>\n      <td>41.752137</td>\n      <td>-87.644229</td>\n      <td>(41.7521368378, -87.6442289066)</td>\n    </tr>\n    <tr>\n      <th>2</th>\n      <td>11</td>\n      <td>Harrison</td>\n      <td>3151 W Harrison St</td>\n      <td>Chicago</td>\n      <td>IL</td>\n      <td>60612</td>\n      <td>312-746-8386</td>\n      <td>312-746-4281</td>\n      <td>312-746-5151</td>\n      <td>1155244.069</td>\n      <td>1897148.755</td>\n      <td>41.873582</td>\n      <td>-87.705488</td>\n      <td>(41.8735822883, -87.705488126)</td>\n    </tr>\n    <tr>\n      <th>3</th>\n      <td>16</td>\n      <td>Jefferson Park</td>\n      <td>5151 N Milwaukee Ave</td>\n      <td>Chicago</td>\n      <td>IL</td>\n      <td>60630</td>\n      <td>312-742-4480</td>\n      <td>312-742-4421</td>\n      <td>312-742-4423</td>\n      <td>1138480.758</td>\n      <td>1933660.473</td>\n      <td>41.974094</td>\n      <td>-87.766149</td>\n      <td>(41.9740944511, -87.7661488432)</td>\n    </tr>\n    <tr>\n      <th>4</th>\n      <td>Headquarters</td>\n      <td>Headquarters</td>\n      <td>3510 S Michigan Ave</td>\n      <td>Chicago</td>\n      <td>IL</td>\n      <td>60653</td>\n      <td>None</td>\n      <td>None</td>\n      <td>None</td>\n      <td>1177731.401</td>\n      <td>1881697.404</td>\n      <td>41.830702</td>\n      <td>-87.623395</td>\n      <td>(41.8307016873, -87.6233953459)</td>\n    </tr>\n  </tbody>\n</table>\n</div>"
     },
     "metadata": {},
     "execution_count": 53
    }
   ],
   "source": [
    "ps = spark.read.csv('../data/Police_Stations.csv', header=True, inferSchema=True)\n",
    "ps = ps.drop('WEBSITE')\n",
    "ps.limit(5).toPandas()"
   ]
  },
  {
   "cell_type": "code",
   "execution_count": 54,
   "metadata": {},
   "outputs": [
    {
     "output_type": "execute_result",
     "data": {
      "text/plain": [
       "6753601"
      ]
     },
     "metadata": {},
     "execution_count": 54
    }
   ],
   "source": [
    "rc.cache()\n",
    "rc.count()"
   ]
  },
  {
   "cell_type": "code",
   "execution_count": 55,
   "metadata": {},
   "outputs": [
    {
     "output_type": "execute_result",
     "data": {
      "text/plain": [
       "        DISTRICT\n",
       "0              7\n",
       "1             15\n",
       "2             11\n",
       "3              3\n",
       "4              8\n",
       "5             22\n",
       "6             16\n",
       "7              5\n",
       "8             18\n",
       "9             17\n",
       "10             6\n",
       "11            19\n",
       "12            25\n",
       "13  Headquarters\n",
       "14            24"
      ],
      "text/html": "<div>\n<style scoped>\n    .dataframe tbody tr th:only-of-type {\n        vertical-align: middle;\n    }\n\n    .dataframe tbody tr th {\n        vertical-align: top;\n    }\n\n    .dataframe thead th {\n        text-align: right;\n    }\n</style>\n<table border=\"1\" class=\"dataframe\">\n  <thead>\n    <tr style=\"text-align: right;\">\n      <th></th>\n      <th>DISTRICT</th>\n    </tr>\n  </thead>\n  <tbody>\n    <tr>\n      <th>0</th>\n      <td>7</td>\n    </tr>\n    <tr>\n      <th>1</th>\n      <td>15</td>\n    </tr>\n    <tr>\n      <th>2</th>\n      <td>11</td>\n    </tr>\n    <tr>\n      <th>3</th>\n      <td>3</td>\n    </tr>\n    <tr>\n      <th>4</th>\n      <td>8</td>\n    </tr>\n    <tr>\n      <th>5</th>\n      <td>22</td>\n    </tr>\n    <tr>\n      <th>6</th>\n      <td>16</td>\n    </tr>\n    <tr>\n      <th>7</th>\n      <td>5</td>\n    </tr>\n    <tr>\n      <th>8</th>\n      <td>18</td>\n    </tr>\n    <tr>\n      <th>9</th>\n      <td>17</td>\n    </tr>\n    <tr>\n      <th>10</th>\n      <td>6</td>\n    </tr>\n    <tr>\n      <th>11</th>\n      <td>19</td>\n    </tr>\n    <tr>\n      <th>12</th>\n      <td>25</td>\n    </tr>\n    <tr>\n      <th>13</th>\n      <td>Headquarters</td>\n    </tr>\n    <tr>\n      <th>14</th>\n      <td>24</td>\n    </tr>\n  </tbody>\n</table>\n</div>"
     },
     "metadata": {},
     "execution_count": 55
    }
   ],
   "source": [
    "ps.select('DISTRICT').distinct().limit(15).toPandas()"
   ]
  },
  {
   "cell_type": "code",
   "execution_count": 56,
   "metadata": {},
   "outputs": [
    {
     "output_type": "execute_result",
     "data": {
      "text/plain": [
       "    District\n",
       "0       31.0\n",
       "1       12.0\n",
       "2       22.0\n",
       "3        NaN\n",
       "4        1.0\n",
       "5        6.0\n",
       "6       16.0\n",
       "7        3.0\n",
       "8       20.0\n",
       "9        5.0\n",
       "10      19.0\n",
       "11      15.0\n",
       "12      17.0\n",
       "13       9.0\n",
       "14       4.0"
      ],
      "text/html": "<div>\n<style scoped>\n    .dataframe tbody tr th:only-of-type {\n        vertical-align: middle;\n    }\n\n    .dataframe tbody tr th {\n        vertical-align: top;\n    }\n\n    .dataframe thead th {\n        text-align: right;\n    }\n</style>\n<table border=\"1\" class=\"dataframe\">\n  <thead>\n    <tr style=\"text-align: right;\">\n      <th></th>\n      <th>District</th>\n    </tr>\n  </thead>\n  <tbody>\n    <tr>\n      <th>0</th>\n      <td>31.0</td>\n    </tr>\n    <tr>\n      <th>1</th>\n      <td>12.0</td>\n    </tr>\n    <tr>\n      <th>2</th>\n      <td>22.0</td>\n    </tr>\n    <tr>\n      <th>3</th>\n      <td>NaN</td>\n    </tr>\n    <tr>\n      <th>4</th>\n      <td>1.0</td>\n    </tr>\n    <tr>\n      <th>5</th>\n      <td>6.0</td>\n    </tr>\n    <tr>\n      <th>6</th>\n      <td>16.0</td>\n    </tr>\n    <tr>\n      <th>7</th>\n      <td>3.0</td>\n    </tr>\n    <tr>\n      <th>8</th>\n      <td>20.0</td>\n    </tr>\n    <tr>\n      <th>9</th>\n      <td>5.0</td>\n    </tr>\n    <tr>\n      <th>10</th>\n      <td>19.0</td>\n    </tr>\n    <tr>\n      <th>11</th>\n      <td>15.0</td>\n    </tr>\n    <tr>\n      <th>12</th>\n      <td>17.0</td>\n    </tr>\n    <tr>\n      <th>13</th>\n      <td>9.0</td>\n    </tr>\n    <tr>\n      <th>14</th>\n      <td>4.0</td>\n    </tr>\n  </tbody>\n</table>\n</div>"
     },
     "metadata": {},
     "execution_count": 56
    }
   ],
   "source": [
    "rc.select('District').distinct().limit(15).toPandas()"
   ]
  },
  {
   "cell_type": "code",
   "execution_count": 61,
   "metadata": {},
   "outputs": [
    {
     "output_type": "execute_result",
     "data": {
      "text/plain": [
       "         ID Case Number                Date                 Block  IUCR  \\\n",
       "0  11034701    JA366925 2001-01-01 11:00:00       016XX E 86TH PL  1153   \n",
       "1  11227287    JB147188 2017-10-08 03:00:00    092XX S RACINE AVE  0281   \n",
       "2  11227583    JB147595 2017-03-28 14:00:00       026XX W 79TH ST  0620   \n",
       "3  11227293    JB147230 2017-09-09 20:17:00  060XX S EBERHART AVE  0810   \n",
       "4  11227634    JB147599 2017-08-26 10:00:00   001XX W RANDOLPH ST  0281   \n",
       "\n",
       "          Primary Type                          Description  \\\n",
       "0   DECEPTIVE PRACTICE  FINANCIAL IDENTITY THEFT OVER $ 300   \n",
       "1  CRIM SEXUAL ASSAULT                       NON-AGGRAVATED   \n",
       "2             BURGLARY                       UNLAWFUL ENTRY   \n",
       "3                THEFT                            OVER $500   \n",
       "4  CRIM SEXUAL ASSAULT                       NON-AGGRAVATED   \n",
       "\n",
       "  Location Description  Arrest  Domestic  ...  STATE    ZIP         PHONE  \\\n",
       "0            RESIDENCE   False     False  ...     IL  60617  312-747-7581   \n",
       "1            RESIDENCE   False     False  ...     IL  60643  312-745-0710   \n",
       "2                OTHER   False     False  ...     IL  60629  312-747-8730   \n",
       "3            RESIDENCE   False     False  ...     IL  60637  312-747-8201   \n",
       "4          HOTEL/MOTEL   False     False  ...     IL  60616  312-745-4290   \n",
       "\n",
       "            FAX           TTY  X COORDINATE  Y COORDINATE   LATITUDE  \\\n",
       "0  312-747-5276  312-747-9169   1193131.299   1837090.265  41.707933   \n",
       "1  312-745-0814  312-745-0569   1165825.476   1830851.333  41.691435   \n",
       "2  312-747-8545  312-747-8116   1154575.242   1862672.049  41.778987   \n",
       "3  312-747-5479  312-747-9168   1182739.183   1858317.732  41.766431   \n",
       "4  312-745-3694  312-745-3693   1176569.052   1891771.704  41.858373   \n",
       "\n",
       "   LONGITUDE                         LOCATION  \n",
       "0 -87.568349  (41.7079332906, -87.5683491228)  \n",
       "1 -87.668520  (41.6914347795, -87.6685203937)  \n",
       "2 -87.708864   (41.778987189, -87.7088638153)  \n",
       "3 -87.605748  (41.7664308925, -87.6057478606)  \n",
       "4 -87.627356   (41.8583725929, -87.627356171)  \n",
       "\n",
       "[5 rows x 36 columns]"
      ],
      "text/html": "<div>\n<style scoped>\n    .dataframe tbody tr th:only-of-type {\n        vertical-align: middle;\n    }\n\n    .dataframe tbody tr th {\n        vertical-align: top;\n    }\n\n    .dataframe thead th {\n        text-align: right;\n    }\n</style>\n<table border=\"1\" class=\"dataframe\">\n  <thead>\n    <tr style=\"text-align: right;\">\n      <th></th>\n      <th>ID</th>\n      <th>Case Number</th>\n      <th>Date</th>\n      <th>Block</th>\n      <th>IUCR</th>\n      <th>Primary Type</th>\n      <th>Description</th>\n      <th>Location Description</th>\n      <th>Arrest</th>\n      <th>Domestic</th>\n      <th>...</th>\n      <th>STATE</th>\n      <th>ZIP</th>\n      <th>PHONE</th>\n      <th>FAX</th>\n      <th>TTY</th>\n      <th>X COORDINATE</th>\n      <th>Y COORDINATE</th>\n      <th>LATITUDE</th>\n      <th>LONGITUDE</th>\n      <th>LOCATION</th>\n    </tr>\n  </thead>\n  <tbody>\n    <tr>\n      <th>0</th>\n      <td>11034701</td>\n      <td>JA366925</td>\n      <td>2001-01-01 11:00:00</td>\n      <td>016XX E 86TH PL</td>\n      <td>1153</td>\n      <td>DECEPTIVE PRACTICE</td>\n      <td>FINANCIAL IDENTITY THEFT OVER $ 300</td>\n      <td>RESIDENCE</td>\n      <td>False</td>\n      <td>False</td>\n      <td>...</td>\n      <td>IL</td>\n      <td>60617</td>\n      <td>312-747-7581</td>\n      <td>312-747-5276</td>\n      <td>312-747-9169</td>\n      <td>1193131.299</td>\n      <td>1837090.265</td>\n      <td>41.707933</td>\n      <td>-87.568349</td>\n      <td>(41.7079332906, -87.5683491228)</td>\n    </tr>\n    <tr>\n      <th>1</th>\n      <td>11227287</td>\n      <td>JB147188</td>\n      <td>2017-10-08 03:00:00</td>\n      <td>092XX S RACINE AVE</td>\n      <td>0281</td>\n      <td>CRIM SEXUAL ASSAULT</td>\n      <td>NON-AGGRAVATED</td>\n      <td>RESIDENCE</td>\n      <td>False</td>\n      <td>False</td>\n      <td>...</td>\n      <td>IL</td>\n      <td>60643</td>\n      <td>312-745-0710</td>\n      <td>312-745-0814</td>\n      <td>312-745-0569</td>\n      <td>1165825.476</td>\n      <td>1830851.333</td>\n      <td>41.691435</td>\n      <td>-87.668520</td>\n      <td>(41.6914347795, -87.6685203937)</td>\n    </tr>\n    <tr>\n      <th>2</th>\n      <td>11227583</td>\n      <td>JB147595</td>\n      <td>2017-03-28 14:00:00</td>\n      <td>026XX W 79TH ST</td>\n      <td>0620</td>\n      <td>BURGLARY</td>\n      <td>UNLAWFUL ENTRY</td>\n      <td>OTHER</td>\n      <td>False</td>\n      <td>False</td>\n      <td>...</td>\n      <td>IL</td>\n      <td>60629</td>\n      <td>312-747-8730</td>\n      <td>312-747-8545</td>\n      <td>312-747-8116</td>\n      <td>1154575.242</td>\n      <td>1862672.049</td>\n      <td>41.778987</td>\n      <td>-87.708864</td>\n      <td>(41.778987189, -87.7088638153)</td>\n    </tr>\n    <tr>\n      <th>3</th>\n      <td>11227293</td>\n      <td>JB147230</td>\n      <td>2017-09-09 20:17:00</td>\n      <td>060XX S EBERHART AVE</td>\n      <td>0810</td>\n      <td>THEFT</td>\n      <td>OVER $500</td>\n      <td>RESIDENCE</td>\n      <td>False</td>\n      <td>False</td>\n      <td>...</td>\n      <td>IL</td>\n      <td>60637</td>\n      <td>312-747-8201</td>\n      <td>312-747-5479</td>\n      <td>312-747-9168</td>\n      <td>1182739.183</td>\n      <td>1858317.732</td>\n      <td>41.766431</td>\n      <td>-87.605748</td>\n      <td>(41.7664308925, -87.6057478606)</td>\n    </tr>\n    <tr>\n      <th>4</th>\n      <td>11227634</td>\n      <td>JB147599</td>\n      <td>2017-08-26 10:00:00</td>\n      <td>001XX W RANDOLPH ST</td>\n      <td>0281</td>\n      <td>CRIM SEXUAL ASSAULT</td>\n      <td>NON-AGGRAVATED</td>\n      <td>HOTEL/MOTEL</td>\n      <td>False</td>\n      <td>False</td>\n      <td>...</td>\n      <td>IL</td>\n      <td>60616</td>\n      <td>312-745-4290</td>\n      <td>312-745-3694</td>\n      <td>312-745-3693</td>\n      <td>1176569.052</td>\n      <td>1891771.704</td>\n      <td>41.858373</td>\n      <td>-87.627356</td>\n      <td>(41.8583725929, -87.627356171)</td>\n    </tr>\n  </tbody>\n</table>\n<p>5 rows × 36 columns</p>\n</div>"
     },
     "metadata": {},
     "execution_count": 61
    }
   ],
   "source": [
    "rc.join(ps, rc.District == ps.DISTRICT, 'left_outer').limit(5).toPandas()"
   ]
  },
  {
   "source": [
    "## Challenge Questions\n",
    "\n",
    "Most frequently reported noncriminal activity"
   ],
   "cell_type": "markdown",
   "metadata": {}
  },
  {
   "cell_type": "code",
   "execution_count": 64,
   "metadata": {},
   "outputs": [
    {
     "output_type": "stream",
     "name": "stdout",
     "text": [
      "+-------------+-----+\n|  Description|count|\n+-------------+-----+\n|LOST PASSPORT|  107|\n+-------------+-----+\nonly showing top 1 row\n\n"
     ]
    }
   ],
   "source": [
    "nc = rc.filter((col('Primary Type') == 'NON - CRIMINAL') | (col('Primary Type') == 'NON-CRIMINAL') | (col('Primary Type') == 'NON-CRIMINAL (SUBJECT SPECIFIED)'))\n",
    "nc.groupBy('Description').count().orderBy('count', ascending=False).show(1)"
   ]
  },
  {
   "source": [
    "Find the day of the week with the most reported crime"
   ],
   "cell_type": "markdown",
   "metadata": {}
  },
  {
   "cell_type": "code",
   "execution_count": 67,
   "metadata": {},
   "outputs": [
    {
     "output_type": "stream",
     "name": "stdout",
     "text": [
      "+---------+-------+\n|      dow|  count|\n+---------+-------+\n|   Friday|1017004|\n|Wednesday| 973937|\n|  Tuesday| 968074|\n| Saturday| 965206|\n| Thursday| 964597|\n|   Monday| 952779|\n|   Sunday| 912004|\n+---------+-------+\n\n"
     ]
    }
   ],
   "source": [
    "from pyspark.sql.functions import date_format\n",
    "\n",
    "rc.withColumn('dow', date_format(col('Date'), 'EEEE')).groupBy('dow').count().orderBy('count', ascending=False).show()"
   ]
  },
  {
   "source": [
    "## Basic RDD Examples"
   ],
   "cell_type": "markdown",
   "metadata": {}
  },
  {
   "cell_type": "code",
   "execution_count": 68,
   "metadata": {},
   "outputs": [
    {
     "output_type": "execute_result",
     "data": {
      "text/plain": [
       "'DISTRICT,DISTRICT NAME,ADDRESS,CITY,STATE,ZIP,WEBSITE,PHONE,FAX,TTY,X COORDINATE,Y COORDINATE,LATITUDE,LONGITUDE,LOCATION'"
      ]
     },
     "metadata": {},
     "execution_count": 68
    }
   ],
   "source": [
    "psrdd = sc.textFile('../data/Police_Stations.csv')\n",
    "psrdd.first()"
   ]
  },
  {
   "cell_type": "code",
   "execution_count": 69,
   "metadata": {},
   "outputs": [
    {
     "output_type": "execute_result",
     "data": {
      "text/plain": [
       "'1,Central,1718 S State St,Chicago,IL,60616,http://home.chicagopolice.org/community/districts/1st-district-central/,312-745-4290,312-745-3694,312-745-3693,1176569.052,1891771.704,41.85837259,-87.62735617,\"(41.8583725929, -87.627356171)\"'"
      ]
     },
     "metadata": {},
     "execution_count": 69
    }
   ],
   "source": [
    "ps_header = psrdd.first()\n",
    "ps_other = psrdd.filter(lambda line: line != ps_header)\n",
    "ps_other.first()"
   ]
  },
  {
   "source": [
    "How many police stations are there?"
   ],
   "cell_type": "markdown",
   "metadata": {}
  },
  {
   "cell_type": "code",
   "execution_count": 75,
   "metadata": {},
   "outputs": [
    {
     "output_type": "execute_result",
     "data": {
      "text/plain": [
       "24"
      ]
     },
     "metadata": {},
     "execution_count": 75
    }
   ],
   "source": [
    "ps_other.map(lambda line: line.split(',')).count()"
   ]
  },
  {
   "source": [
    "Display DistrictID, District name, address, and zip of district id 7"
   ],
   "cell_type": "markdown",
   "metadata": {}
  },
  {
   "cell_type": "code",
   "execution_count": 77,
   "metadata": {},
   "outputs": [
    {
     "output_type": "execute_result",
     "data": {
      "text/plain": [
       "[('7', 'Englewood', '1438 W 63rd St', '60636')]"
      ]
     },
     "metadata": {},
     "execution_count": 77
    }
   ],
   "source": [
    "# Requires detailed knowledge of the dataset\n",
    "(ps_other.filter(lambda line: line.split(',')[0] == '7')\n",
    "    .map(lambda line: (line.split(',')[0],\n",
    "                       line.split(',')[1],\n",
    "                       line.split(',')[2],\n",
    "                       line.split(',')[5]\n",
    "                       )).collect())"
   ]
  },
  {
   "source": [],
   "cell_type": "markdown",
   "metadata": {}
  }
 ]
}